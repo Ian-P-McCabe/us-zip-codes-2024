{
 "cells": [
  {
   "cell_type": "code",
   "execution_count": 4,
   "metadata": {
    "collapsed": true,
    "ExecuteTime": {
     "end_time": "2024-12-27T03:32:00.717150Z",
     "start_time": "2024-12-27T03:30:59.738184Z"
    }
   },
   "outputs": [
    {
     "name": "stdout",
     "output_type": "stream",
     "text": [
      "Converted shapefile to CSV: data/output_run2.csv\n",
      "Number of records processed: 33791\n"
     ]
    }
   ],
   "source": [
    "import geopandas as gpd\n",
    "import pandas as pd\n",
    "\n",
    "def convert_shapefile_to_csv(shapefile_path, output_path):\n",
    "    \"\"\"\n",
    "    Convert a shapefile to CSV format, extracting ZIP codes and coordinates.\n",
    "\n",
    "    Parameters:\n",
    "    shapefile_path (str): Path to the .shp file\n",
    "    output_path (str): Path where the CSV should be saved\n",
    "    \"\"\"\n",
    "    # Read the shapefile\n",
    "    gdf = gpd.read_file(shapefile_path)\n",
    "\n",
    "    # Project to a suitable projected CRS (EPSG:3857 - Web Mercator)\n",
    "    gdf_projected = gdf.to_crs(epsg=3857)\n",
    "\n",
    "    # Calculate centroids in projected space\n",
    "    centroids = gdf_projected.geometry.centroid\n",
    "\n",
    "    # Convert centroids back to lat/long (EPSG:4326)\n",
    "    centroids_latlong = centroids.to_crs(epsg=4326)\n",
    "\n",
    "    # Extract coordinates\n",
    "    gdf['longitude'] = centroids_latlong.x\n",
    "    gdf['latitude'] = centroids_latlong.y\n",
    "\n",
    "    # Convert to regular dataframe, dropping the geometry column\n",
    "    df = pd.DataFrame(gdf.drop(columns='geometry'))\n",
    "\n",
    "    # Save to CSV\n",
    "    df.to_csv(output_path, index=False)\n",
    "\n",
    "    print(f\"Converted shapefile to CSV: {output_path}\")\n",
    "    print(f\"Number of records processed: {len(df)}\")\n",
    "\n",
    "#convert_shapefile_to_csv(\"data\", \"data/output_run2.csv\")"
   ]
  },
  {
   "cell_type": "code",
   "execution_count": 1,
   "outputs": [
    {
     "name": "stdout",
     "output_type": "stream",
     "text": [
      "hello world\n"
     ]
    }
   ],
   "source": [],
   "metadata": {
    "collapsed": false,
    "ExecuteTime": {
     "end_time": "2024-12-27T03:21:17.149512Z",
     "start_time": "2024-12-27T03:21:17.141913Z"
    }
   }
  },
  {
   "cell_type": "code",
   "execution_count": null,
   "outputs": [],
   "source": [],
   "metadata": {
    "collapsed": false
   }
  }
 ],
 "metadata": {
  "kernelspec": {
   "display_name": "Python 3",
   "language": "python",
   "name": "python3"
  },
  "language_info": {
   "codemirror_mode": {
    "name": "ipython",
    "version": 2
   },
   "file_extension": ".py",
   "mimetype": "text/x-python",
   "name": "python",
   "nbconvert_exporter": "python",
   "pygments_lexer": "ipython2",
   "version": "2.7.6"
  }
 },
 "nbformat": 4,
 "nbformat_minor": 0
}
