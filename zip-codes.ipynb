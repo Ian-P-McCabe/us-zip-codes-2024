{
 "cells": [
  {
   "cell_type": "code",
   "execution_count": 1,
   "metadata": {
    "collapsed": true,
    "ExecuteTime": {
     "end_time": "2024-12-27T03:44:40.995433Z",
     "start_time": "2024-12-27T03:44:40.337279Z"
    }
   },
   "outputs": [],
   "source": [
    "import geopandas as gpd\n",
    "import pandas as pd\n",
    "\n",
    "def convert_shapefile_to_csv(shapefile_path, output_path):\n",
    "    \"\"\"\n",
    "    Convert a shapefile to CSV format, extracting ZIP codes and coordinates.\n",
    "\n",
    "    Parameters:\n",
    "    shapefile_path (str): Path to the .shp file\n",
    "    output_path (str): Path where the CSV should be saved\n",
    "    \"\"\"\n",
    "    # Read the shapefile\n",
    "    gdf = gpd.read_file(shapefile_path)\n",
    "\n",
    "    # Project to a suitable projected CRS (EPSG:3857 - Web Mercator)\n",
    "    gdf_projected = gdf.to_crs(epsg=3857)\n",
    "\n",
    "    # Calculate centroids in projected space\n",
    "    centroids = gdf_projected.geometry.centroid\n",
    "\n",
    "    # Convert centroids back to lat/long (EPSG:4326)\n",
    "    centroids_latlong = centroids.to_crs(epsg=4326)\n",
    "\n",
    "    # Extract coordinates\n",
    "    gdf['longitude'] = centroids_latlong.x\n",
    "    gdf['latitude'] = centroids_latlong.y\n",
    "\n",
    "    # Convert to regular dataframe, dropping the geometry column\n",
    "    df = pd.DataFrame(gdf.drop(columns='geometry'))\n",
    "\n",
    "    # Save to CSV\n",
    "    df.to_csv(output_path, index=False)\n",
    "\n",
    "    print(f\"Converted shapefile to CSV: {output_path}\")\n",
    "    print(f\"Number of records processed: {len(df)}\")\n",
    "\n",
    "#convert_shapefile_to_csv(\"data\", \"data/output_run2.csv\")"
   ]
  },
  {
   "cell_type": "code",
   "execution_count": 5,
   "outputs": [],
   "source": [
    "zip_lat_long = pd.read_csv(\"data/zip_lat_long.csv\", dtype=\"str\")\n",
    "\n",
    "zip_state = pd.read_csv(\"data/zip_state.csv\", dtype=\"str\")"
   ],
   "metadata": {
    "collapsed": false,
    "ExecuteTime": {
     "end_time": "2024-12-27T03:53:36.605701Z",
     "start_time": "2024-12-27T03:53:36.433353Z"
    }
   }
  },
  {
   "cell_type": "code",
   "execution_count": 9,
   "outputs": [
    {
     "name": "stdout",
     "output_type": "stream",
     "text": [
      "Original coordinates records: 33791\n",
      "Original locations records: 44196\n",
      "Merged records: 42288\n",
      "Unmatched records: -8497 from coordinates, 1908 from locations\n"
     ]
    },
    {
     "data": {
      "text/plain": "  ZIP_CODE GEOID20 CLASSFP20 MTFCC20 FUNCSTAT20    ALAND20  AWATER20  \\\n0    35592   35592        B5   G6350          S  298552385    235989   \n1    35616   35616        B5   G6350          S  559506992  41870756   \n2    35621   35621        B5   G6350          S  117838488    409438   \n3    35651   35651        B5   G6350          S  104521045    574316   \n4    36010   36010        B5   G6350          S  335675180    236811   \n\n      LATITUDE     LONGITUDE           longitude  ... AREA NAME AREA CODE  \\\n0  +33.7427261  -088.0973903  -88.09670954934533  ...  SOUTHERN        4G   \n1  +34.7395036  -088.0193814  -88.01890615610482  ...  SOUTHERN        4G   \n2  +34.3350314  -086.7270557  -86.72392051024694  ...  SOUTHERN        4G   \n3  +34.4609087  -087.4801507  -87.48045653962154  ...  SOUTHERN        4G   \n4  +31.6598950  -085.8128958  -85.81435735505512  ...  SOUTHERN        4G   \n\n  DISTRICT NAME DISTRICT NO DELIVERY ZIPCODE LOCALE NAME   PHYSICAL DELV ADDR  \\\n0         AL-MS         350            35592      VERNON     44924 HIGHWAY 17   \n1         AL-MS         350            35616    CHEROKEE          215 MAIN ST   \n2         AL-MS         350            35621         EVA    4456 HIGHWAY 55 E   \n3         AL-MS         350            35651  MOUNT HOPE  7650 COUNTY ROAD 23   \n4         AL-MS         350            36010   BRUNDIDGE        129 N MAIN ST   \n\n         CITY STATE PHYSICAL ZIP 4  \n0      VERNON    AL           5630  \n1    CHEROKEE    AL           7317  \n2         EVA    AL           7900  \n3  MOUNT HOPE    AL           9793  \n4   BRUNDIDGE    AL           9998  \n\n[5 rows x 21 columns]",
      "text/html": "<div>\n<style scoped>\n    .dataframe tbody tr th:only-of-type {\n        vertical-align: middle;\n    }\n\n    .dataframe tbody tr th {\n        vertical-align: top;\n    }\n\n    .dataframe thead th {\n        text-align: right;\n    }\n</style>\n<table border=\"1\" class=\"dataframe\">\n  <thead>\n    <tr style=\"text-align: right;\">\n      <th></th>\n      <th>ZIP_CODE</th>\n      <th>GEOID20</th>\n      <th>CLASSFP20</th>\n      <th>MTFCC20</th>\n      <th>FUNCSTAT20</th>\n      <th>ALAND20</th>\n      <th>AWATER20</th>\n      <th>LATITUDE</th>\n      <th>LONGITUDE</th>\n      <th>longitude</th>\n      <th>...</th>\n      <th>AREA NAME</th>\n      <th>AREA CODE</th>\n      <th>DISTRICT NAME</th>\n      <th>DISTRICT NO</th>\n      <th>DELIVERY ZIPCODE</th>\n      <th>LOCALE NAME</th>\n      <th>PHYSICAL DELV ADDR</th>\n      <th>CITY</th>\n      <th>STATE</th>\n      <th>PHYSICAL ZIP 4</th>\n    </tr>\n  </thead>\n  <tbody>\n    <tr>\n      <th>0</th>\n      <td>35592</td>\n      <td>35592</td>\n      <td>B5</td>\n      <td>G6350</td>\n      <td>S</td>\n      <td>298552385</td>\n      <td>235989</td>\n      <td>+33.7427261</td>\n      <td>-088.0973903</td>\n      <td>-88.09670954934533</td>\n      <td>...</td>\n      <td>SOUTHERN</td>\n      <td>4G</td>\n      <td>AL-MS</td>\n      <td>350</td>\n      <td>35592</td>\n      <td>VERNON</td>\n      <td>44924 HIGHWAY 17</td>\n      <td>VERNON</td>\n      <td>AL</td>\n      <td>5630</td>\n    </tr>\n    <tr>\n      <th>1</th>\n      <td>35616</td>\n      <td>35616</td>\n      <td>B5</td>\n      <td>G6350</td>\n      <td>S</td>\n      <td>559506992</td>\n      <td>41870756</td>\n      <td>+34.7395036</td>\n      <td>-088.0193814</td>\n      <td>-88.01890615610482</td>\n      <td>...</td>\n      <td>SOUTHERN</td>\n      <td>4G</td>\n      <td>AL-MS</td>\n      <td>350</td>\n      <td>35616</td>\n      <td>CHEROKEE</td>\n      <td>215 MAIN ST</td>\n      <td>CHEROKEE</td>\n      <td>AL</td>\n      <td>7317</td>\n    </tr>\n    <tr>\n      <th>2</th>\n      <td>35621</td>\n      <td>35621</td>\n      <td>B5</td>\n      <td>G6350</td>\n      <td>S</td>\n      <td>117838488</td>\n      <td>409438</td>\n      <td>+34.3350314</td>\n      <td>-086.7270557</td>\n      <td>-86.72392051024694</td>\n      <td>...</td>\n      <td>SOUTHERN</td>\n      <td>4G</td>\n      <td>AL-MS</td>\n      <td>350</td>\n      <td>35621</td>\n      <td>EVA</td>\n      <td>4456 HIGHWAY 55 E</td>\n      <td>EVA</td>\n      <td>AL</td>\n      <td>7900</td>\n    </tr>\n    <tr>\n      <th>3</th>\n      <td>35651</td>\n      <td>35651</td>\n      <td>B5</td>\n      <td>G6350</td>\n      <td>S</td>\n      <td>104521045</td>\n      <td>574316</td>\n      <td>+34.4609087</td>\n      <td>-087.4801507</td>\n      <td>-87.48045653962154</td>\n      <td>...</td>\n      <td>SOUTHERN</td>\n      <td>4G</td>\n      <td>AL-MS</td>\n      <td>350</td>\n      <td>35651</td>\n      <td>MOUNT HOPE</td>\n      <td>7650 COUNTY ROAD 23</td>\n      <td>MOUNT HOPE</td>\n      <td>AL</td>\n      <td>9793</td>\n    </tr>\n    <tr>\n      <th>4</th>\n      <td>36010</td>\n      <td>36010</td>\n      <td>B5</td>\n      <td>G6350</td>\n      <td>S</td>\n      <td>335675180</td>\n      <td>236811</td>\n      <td>+31.6598950</td>\n      <td>-085.8128958</td>\n      <td>-85.81435735505512</td>\n      <td>...</td>\n      <td>SOUTHERN</td>\n      <td>4G</td>\n      <td>AL-MS</td>\n      <td>350</td>\n      <td>36010</td>\n      <td>BRUNDIDGE</td>\n      <td>129 N MAIN ST</td>\n      <td>BRUNDIDGE</td>\n      <td>AL</td>\n      <td>9998</td>\n    </tr>\n  </tbody>\n</table>\n<p>5 rows × 21 columns</p>\n</div>"
     },
     "execution_count": 9,
     "metadata": {},
     "output_type": "execute_result"
    }
   ],
   "source": [
    "def merge_zipcode_data(df_coords, df_locations):\n",
    "    \"\"\"\n",
    "    Merge two dataframes based on ZIP code matching.\n",
    "\n",
    "    Parameters:\n",
    "    df_coords: DataFrame containing ZCTA5CE20, INTPTLAT20, INTPTLON20\n",
    "    df_locations: DataFrame containing PHYSICAL STATE, PHYSICAL ZIP, PHYSICAL CITY\n",
    "\n",
    "    Returns:\n",
    "    DataFrame: Merged dataframe with combined information\n",
    "    \"\"\"\n",
    "    # Create copies to avoid modifying original dataframes\n",
    "    coords_df = df_coords.copy()\n",
    "    locations_df = df_locations.copy()\n",
    "\n",
    "    # Rename columns for clarity\n",
    "    coords_df = coords_df.rename(columns={\n",
    "        'ZCTA5CE20': 'ZIP_CODE',\n",
    "        'INTPTLAT20': 'LATITUDE',\n",
    "        'INTPTLON20': 'LONGITUDE'\n",
    "    })\n",
    "\n",
    "    locations_df = locations_df.rename(columns={\n",
    "        'PHYSICAL ZIP': 'ZIP_CODE',\n",
    "        'PHYSICAL STATE': 'STATE',\n",
    "        'PHYSICAL CITY': 'CITY'\n",
    "    })\n",
    "\n",
    "    # Merge dataframes on ZIP code\n",
    "    merged_df = pd.merge(\n",
    "        coords_df,\n",
    "        locations_df,\n",
    "        on='ZIP_CODE',\n",
    "        how='inner'  # Only keep matches found in both dataframes\n",
    "    )\n",
    "\n",
    "    # Print merge statistics\n",
    "    print(f\"Original coordinates records: {len(df_coords)}\")\n",
    "    print(f\"Original locations records: {len(df_locations)}\")\n",
    "    print(f\"Merged records: {len(merged_df)}\")\n",
    "    print(f\"Unmatched records: {len(df_coords) - len(merged_df)} from coordinates, \"\n",
    "          f\"{len(df_locations) - len(merged_df)} from locations\")\n",
    "\n",
    "    return merged_df\n",
    "\n",
    "# Example usage:\n",
    "\n",
    "merged_data = merge_zipcode_data(zip_lat_long, zip_state)\n",
    "\n",
    "merged_data.head()"
   ],
   "metadata": {
    "collapsed": false,
    "ExecuteTime": {
     "end_time": "2024-12-27T04:01:09.021385Z",
     "start_time": "2024-12-27T04:01:08.957844Z"
    }
   }
  },
  {
   "cell_type": "code",
   "execution_count": 10,
   "outputs": [
    {
     "name": "stdout",
     "output_type": "stream",
     "text": [
      "Found 859 ZIP codes within 100 miles of New Mexico\n",
      "Breakdown by state:\n",
      "STATE\n",
      "NM    399\n",
      "TX    222\n",
      "CO    114\n",
      "AZ    105\n",
      "UT      9\n",
      "OK      7\n",
      "KS      3\n",
      "Name: count, dtype: int64\n"
     ]
    }
   ],
   "source": [
    "import pandas as pd\n",
    "import numpy as np\n",
    "from math import radians, sin, cos, sqrt, asin\n",
    "\n",
    "def find_zipcodes_near_nm(df, radius_miles=100):\n",
    "    \"\"\"\n",
    "    Find all ZIP codes within specified radius of any New Mexico ZIP code.\n",
    "\n",
    "    Parameters:\n",
    "    df: DataFrame with columns ZIP_CODE, STATE, LATITUDE, LONGITUDE\n",
    "    radius_miles: Search radius in miles (default 100)\n",
    "\n",
    "    Returns:\n",
    "    DataFrame: ZIP codes within radius of any NM ZIP code\n",
    "    \"\"\"\n",
    "    def haversine_distance(lat1, lon1, lat2, lon2):\n",
    "        \"\"\"Calculate distance between two lat/lon points in miles\"\"\"\n",
    "        R = 3959.87433  # Earth's radius in miles\n",
    "\n",
    "        lat1, lon1, lat2, lon2 = map(radians, [lat1, lon1, lat2, lon2])\n",
    "\n",
    "        dlat = lat2 - lat1\n",
    "        dlon = lon2 - lon1\n",
    "\n",
    "        a = sin(dlat/2)**2 + cos(lat1) * cos(lat2) * sin(dlon/2)**2\n",
    "        c = 2 * asin(sqrt(a))\n",
    "\n",
    "        return R * c\n",
    "\n",
    "    # Convert lat/lon to float\n",
    "    df = df.copy()\n",
    "    df['LATITUDE'] = df['LATITUDE'].astype(float)\n",
    "    df['LONGITUDE'] = df['LONGITUDE'].astype(float)\n",
    "\n",
    "    # Get New Mexico ZIP codes\n",
    "    nm_zips = df[df['STATE'] == 'NM']\n",
    "\n",
    "    if len(nm_zips) == 0:\n",
    "        raise ValueError(\"No New Mexico ZIP codes found in dataset\")\n",
    "\n",
    "    # Initialize empty set for results\n",
    "    nearby_zips = set()\n",
    "\n",
    "    # For each NM ZIP code\n",
    "    for _, nm_row in nm_zips.iterrows():\n",
    "        # Calculate distances to all other ZIP codes\n",
    "        distances = df.apply(lambda row: haversine_distance(\n",
    "            nm_row['LATITUDE'], nm_row['LONGITUDE'],\n",
    "            row['LATITUDE'], row['LONGITUDE']\n",
    "        ), axis=1)\n",
    "\n",
    "        # Add ZIP codes within radius to results\n",
    "        nearby_zips.update(df[distances <= radius_miles]['ZIP_CODE'].tolist())\n",
    "\n",
    "    # Get full details for nearby ZIP codes\n",
    "    result_df = df[df['ZIP_CODE'].isin(nearby_zips)].copy()\n",
    "\n",
    "    # Add column indicating if ZIP code is in NM\n",
    "    result_df['IS_NM'] = result_df['STATE'] == 'NM'\n",
    "\n",
    "    # Sort by ZIP code\n",
    "    result_df = result_df.sort_values('ZIP_CODE')\n",
    "\n",
    "    print(f\"Found {len(result_df)} ZIP codes within {radius_miles} miles of New Mexico\")\n",
    "    print(f\"Breakdown by state:\")\n",
    "    print(result_df['STATE'].value_counts())\n",
    "\n",
    "    return result_df\n",
    "\n",
    "# Example usage:\n",
    "nearby_zips = find_zipcodes_near_nm(merged_data)"
   ],
   "metadata": {
    "collapsed": false,
    "ExecuteTime": {
     "end_time": "2024-12-27T04:08:17.092693Z",
     "start_time": "2024-12-27T04:05:08.819476Z"
    }
   }
  },
  {
   "cell_type": "code",
   "execution_count": 11,
   "outputs": [
    {
     "data": {
      "text/plain": "      ZIP_CODE GEOID20 CLASSFP20 MTFCC20 FUNCSTAT20     ALAND20 AWATER20  \\\n34712    67862   67862        B5   G6350          S   727464933   238832   \n6518     67950   67950        B5   G6350          S   469041058        0   \n34754    67953   67953        B5   G6350          S   571963909   230324   \n11333    73933   73933        B5   G6350          S  2489244027  4175764   \n35549    73937   73937        B5   G6350          S   553423195  2075488   \n\n        LATITUDE   LONGITUDE            longitude  ... AREA CODE  \\\n34712  37.488076 -101.952538  -101.95411309827917  ...        4J   \n6518   37.062774 -101.867684  -101.86769249179139  ...        4J   \n34754  37.221665 -101.854850  -101.86084521291797  ...        4J   \n11333  36.740858 -102.579737  -102.58202508535413  ...        4G   \n35549  36.566611 -102.759935  -102.76704703908864  ...        4G   \n\n      DISTRICT NAME DISTRICT NO DELIVERY ZIPCODE LOCALE NAME  \\\n34712         KS-MO         630            67862      MANTER   \n6518          KS-MO         630            67950     ELKHART   \n34754         KS-MO         630            67953   RICHFIELD   \n11333         AR-OK         730            73933  BOISE CITY   \n35549         AR-OK         730            73937        FELT   \n\n       PHYSICAL DELV ADDR        CITY STATE PHYSICAL ZIP 4  IS_NM  \n34712       216 N MAIN ST      MANTER    KS           9500  False  \n6518        336 MORTON ST     ELKHART    KS           9998  False  \n34754          223 7TH ST   RICHFIELD    KS           9500  False  \n11333  114 N CIMARRON AVE  BOISE CITY    OK           9815  False  \n35549      101 LINCOLN ST        FELT    OK           9800  False  \n\n[5 rows x 22 columns]",
      "text/html": "<div>\n<style scoped>\n    .dataframe tbody tr th:only-of-type {\n        vertical-align: middle;\n    }\n\n    .dataframe tbody tr th {\n        vertical-align: top;\n    }\n\n    .dataframe thead th {\n        text-align: right;\n    }\n</style>\n<table border=\"1\" class=\"dataframe\">\n  <thead>\n    <tr style=\"text-align: right;\">\n      <th></th>\n      <th>ZIP_CODE</th>\n      <th>GEOID20</th>\n      <th>CLASSFP20</th>\n      <th>MTFCC20</th>\n      <th>FUNCSTAT20</th>\n      <th>ALAND20</th>\n      <th>AWATER20</th>\n      <th>LATITUDE</th>\n      <th>LONGITUDE</th>\n      <th>longitude</th>\n      <th>...</th>\n      <th>AREA CODE</th>\n      <th>DISTRICT NAME</th>\n      <th>DISTRICT NO</th>\n      <th>DELIVERY ZIPCODE</th>\n      <th>LOCALE NAME</th>\n      <th>PHYSICAL DELV ADDR</th>\n      <th>CITY</th>\n      <th>STATE</th>\n      <th>PHYSICAL ZIP 4</th>\n      <th>IS_NM</th>\n    </tr>\n  </thead>\n  <tbody>\n    <tr>\n      <th>34712</th>\n      <td>67862</td>\n      <td>67862</td>\n      <td>B5</td>\n      <td>G6350</td>\n      <td>S</td>\n      <td>727464933</td>\n      <td>238832</td>\n      <td>37.488076</td>\n      <td>-101.952538</td>\n      <td>-101.95411309827917</td>\n      <td>...</td>\n      <td>4J</td>\n      <td>KS-MO</td>\n      <td>630</td>\n      <td>67862</td>\n      <td>MANTER</td>\n      <td>216 N MAIN ST</td>\n      <td>MANTER</td>\n      <td>KS</td>\n      <td>9500</td>\n      <td>False</td>\n    </tr>\n    <tr>\n      <th>6518</th>\n      <td>67950</td>\n      <td>67950</td>\n      <td>B5</td>\n      <td>G6350</td>\n      <td>S</td>\n      <td>469041058</td>\n      <td>0</td>\n      <td>37.062774</td>\n      <td>-101.867684</td>\n      <td>-101.86769249179139</td>\n      <td>...</td>\n      <td>4J</td>\n      <td>KS-MO</td>\n      <td>630</td>\n      <td>67950</td>\n      <td>ELKHART</td>\n      <td>336 MORTON ST</td>\n      <td>ELKHART</td>\n      <td>KS</td>\n      <td>9998</td>\n      <td>False</td>\n    </tr>\n    <tr>\n      <th>34754</th>\n      <td>67953</td>\n      <td>67953</td>\n      <td>B5</td>\n      <td>G6350</td>\n      <td>S</td>\n      <td>571963909</td>\n      <td>230324</td>\n      <td>37.221665</td>\n      <td>-101.854850</td>\n      <td>-101.86084521291797</td>\n      <td>...</td>\n      <td>4J</td>\n      <td>KS-MO</td>\n      <td>630</td>\n      <td>67953</td>\n      <td>RICHFIELD</td>\n      <td>223 7TH ST</td>\n      <td>RICHFIELD</td>\n      <td>KS</td>\n      <td>9500</td>\n      <td>False</td>\n    </tr>\n    <tr>\n      <th>11333</th>\n      <td>73933</td>\n      <td>73933</td>\n      <td>B5</td>\n      <td>G6350</td>\n      <td>S</td>\n      <td>2489244027</td>\n      <td>4175764</td>\n      <td>36.740858</td>\n      <td>-102.579737</td>\n      <td>-102.58202508535413</td>\n      <td>...</td>\n      <td>4G</td>\n      <td>AR-OK</td>\n      <td>730</td>\n      <td>73933</td>\n      <td>BOISE CITY</td>\n      <td>114 N CIMARRON AVE</td>\n      <td>BOISE CITY</td>\n      <td>OK</td>\n      <td>9815</td>\n      <td>False</td>\n    </tr>\n    <tr>\n      <th>35549</th>\n      <td>73937</td>\n      <td>73937</td>\n      <td>B5</td>\n      <td>G6350</td>\n      <td>S</td>\n      <td>553423195</td>\n      <td>2075488</td>\n      <td>36.566611</td>\n      <td>-102.759935</td>\n      <td>-102.76704703908864</td>\n      <td>...</td>\n      <td>4G</td>\n      <td>AR-OK</td>\n      <td>730</td>\n      <td>73937</td>\n      <td>FELT</td>\n      <td>101 LINCOLN ST</td>\n      <td>FELT</td>\n      <td>OK</td>\n      <td>9800</td>\n      <td>False</td>\n    </tr>\n  </tbody>\n</table>\n<p>5 rows × 22 columns</p>\n</div>"
     },
     "execution_count": 11,
     "metadata": {},
     "output_type": "execute_result"
    }
   ],
   "source": [
    "nearby_zips.head()"
   ],
   "metadata": {
    "collapsed": false,
    "ExecuteTime": {
     "end_time": "2024-12-27T04:08:52.704063Z",
     "start_time": "2024-12-27T04:08:52.698491Z"
    }
   }
  },
  {
   "cell_type": "code",
   "execution_count": 12,
   "outputs": [],
   "source": [
    "dropped = nearby_zips[nearby_zips[\"STATE\"] != \"NM\"]"
   ],
   "metadata": {
    "collapsed": false,
    "ExecuteTime": {
     "end_time": "2024-12-27T04:10:35.884711Z",
     "start_time": "2024-12-27T04:10:35.881377Z"
    }
   }
  },
  {
   "cell_type": "code",
   "execution_count": 16,
   "outputs": [],
   "source": [
    "columns_to_write = [\"ZIP_CODE\", \"CITY\", \"PHYSICAL DELV ADDR\", \"STATE\"]\n",
    "\n",
    "dropped.to_csv('output.csv', columns=columns_to_write, index=False)"
   ],
   "metadata": {
    "collapsed": false,
    "ExecuteTime": {
     "end_time": "2024-12-27T04:13:20.645528Z",
     "start_time": "2024-12-27T04:13:20.622185Z"
    }
   }
  },
  {
   "cell_type": "code",
   "execution_count": null,
   "outputs": [],
   "source": [],
   "metadata": {
    "collapsed": false
   }
  }
 ],
 "metadata": {
  "kernelspec": {
   "display_name": "Python 3",
   "language": "python",
   "name": "python3"
  },
  "language_info": {
   "codemirror_mode": {
    "name": "ipython",
    "version": 2
   },
   "file_extension": ".py",
   "mimetype": "text/x-python",
   "name": "python",
   "nbconvert_exporter": "python",
   "pygments_lexer": "ipython2",
   "version": "2.7.6"
  }
 },
 "nbformat": 4,
 "nbformat_minor": 0
}
